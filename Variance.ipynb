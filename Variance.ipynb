{
 "cells": [
  {
   "cell_type": "code",
   "execution_count": 2,
   "metadata": {},
   "outputs": [
    {
     "name": "stdout",
     "output_type": "stream",
     "text": [
      "Teacher One mean: 84.46766666666666\n",
      "Teacher Two mean: 84.298\n"
     ]
    },
    {
     "data": {
      "image/png": "[encoded data removed]",
      "text/plain": [
       "<Figure size 432x288 with 2 Axes>"
      ]
     },
     "metadata": {
      "needs_background": "light"
     },
     "output_type": "display_data"
    }
   ],
   "source": [
    "import numpy as np\n",
    "import matplotlib.pyplot as plt\n",
    "\n",
    "teacher_one_grades = [83.42, 88.04, 82.12, 85.02, 82.52, 87.47, 84.69, 85.18, 86.29, 85.53, 81.29, 82.54, 83.47, 83.91, 86.83, 88.5, 84.95, 83.79, 84.74, 84.03, 87.62, 81.15, 83.45, 80.24, 82.76, 83.98, 84.95, 83.37, 84.89, 87.29]\n",
    "teacher_two_grades = [85.15, 95.64, 84.73, 71.46, 95.99, 81.61, 86.55, 79.81, 77.06, 92.86, 83.67, 73.63, 90.12, 80.64, 78.46, 76.86, 104.4, 88.53, 74.62, 91.27, 76.53, 94.37, 84.74, 81.84, 97.69, 70.77, 84.44, 88.06, 91.62, 65.82]\n",
    "\n",
    "print(\"Teacher One mean: \" + str(np.mean(teacher_one_grades)))\n",
    "print(\"Teacher Two mean: \" + str(np.mean(teacher_two_grades)))\n",
    "\n",
    "plt.subplot(211)\n",
    "plt.title(\"Teacher One Grades\")\n",
    "plt.xlabel(\"Grades\")\n",
    "plt.hist(teacher_one_grades)\n",
    "plt.xlim(65, 105)\n",
    "\n",
    "\n",
    "plt.subplot(212)\n",
    "plt.title(\"Teacher Two Grades\")\n",
    "plt.xlabel(\"Grades\")\n",
    "plt.hist(teacher_two_grades, bins = 20)\n",
    "plt.xlim(65, 105)\n",
    "\n",
    "plt.tight_layout()\n",
    "plt.show()"
   ]
  },
  {
   "cell_type": "code",
   "execution_count": 3,
   "metadata": {},
   "outputs": [
    {
     "name": "stdout",
     "output_type": "stream",
     "text": [
      "The mean of the data set is 85.8\n",
      "\n",
      "The first student is 2.2 percentage points away from the mean.\n",
      "The second student is -3.8 percentage points away from the mean.\n",
      "The third student is -0.8 percentage points away from the mean.\n",
      "The fourth student is -1.8 percentage points away from the mean.\n",
      "The fifth student is 4.2 percentage points away from the mean.\n"
     ]
    }
   ],
   "source": [
    "# Distance from the mean\n",
    "# difference = X−μ \n",
    "\n",
    "grades = [88, 82, 85, 84, 90]\n",
    "mean = np.mean(grades)\n",
    "\n",
    "difference_one = 88-mean\n",
    "difference_two = 82-mean\n",
    "difference_three = 85-mean\n",
    "difference_four = 84-mean\n",
    "difference_five = 90-mean\n",
    "\n",
    "\n",
    "# IGNORE CODE BELOW HERE\n",
    "print(\"The mean of the data set is \" + str(mean) + \"\\n\")\n",
    "print(\"The first student is \" +str(round(difference_one, 2)) + \" percentage points away from the mean.\")\n",
    "print(\"The second student is \" +str(round(difference_two, 2)) + \" percentage points away from the mean.\")\n",
    "print(\"The third student is \" +str(round(difference_three, 2)) + \" percentage points away from the mean.\")\n",
    "print(\"The fourth student is \" +str(round(difference_four, 2)) + \" percentage points away from the mean.\")\n",
    "print(\"The fifth student is \" +str(round(difference_five, 2)) + \" percentage points away from the mean.\")"
   ]
  },
  {
   "cell_type": "code",
   "execution_count": 5,
   "metadata": {},
   "outputs": [
    {
     "name": "stdout",
     "output_type": "stream",
     "text": [
      "The sum of the differences is 0.000000\n",
      "The average difference is 0.000000\n"
     ]
    }
   ],
   "source": [
    "grades = [88, 82, 85, 84, 90]\n",
    "mean = np.mean(grades)\n",
    "\n",
    "difference_one = 88 - mean\n",
    "difference_two = 82 - mean\n",
    "difference_three = 85 - mean\n",
    "difference_four = 84 - mean\n",
    "difference_five = 90 - mean\n",
    "\n",
    "#Part 1: Sum the differences\n",
    "difference_sum = difference_one + difference_two + difference_three + difference_four + difference_five \n",
    "\n",
    "#Part 2: Average the differences\n",
    "average_difference = difference_sum/5 \n",
    "\n",
    "print(\"The sum of the differences is \" + str(format(difference_sum, \"f\")))\n",
    "print(\"The average difference is \" + str(format(average_difference, \"f\")))"
   ]
  },
  {
   "cell_type": "code",
   "execution_count": 6,
   "metadata": {},
   "outputs": [
    {
     "name": "stdout",
     "output_type": "stream",
     "text": [
      "The sum of the squared differences is 40.8\n",
      "The variance is 8.16\n"
     ]
    }
   ],
   "source": [
    "# difference = X−μ^2 \n",
    "grades = [88, 82, 85, 84, 90]\n",
    "mean = np.mean(grades)\n",
    "\n",
    "# When calculating these variables, square the difference.\n",
    "difference_one = (88 - mean) **2\n",
    "difference_two = (82 - mean) **2\n",
    "difference_three = (85 - mean) **2\n",
    "difference_four = (84 - mean) **2\n",
    "difference_five = (90 - mean) **2\n",
    "\n",
    "difference_sum = difference_one + difference_two + difference_three + difference_four + difference_five\n",
    "\n",
    "variance = difference_sum / 5\n",
    "\n",
    "print(\"The sum of the squared differences is \" + str(difference_sum))\n",
    "print(\"The variance is \" + str(variance))"
   ]
  },
  {
   "cell_type": "code",
   "execution_count": 7,
   "metadata": {},
   "outputs": [
    {
     "data": {
      "image/png": "[encoded data removed]",
      "text/plain": [
       "<Figure size 432x288 with 1 Axes>"
      ]
     },
     "metadata": {
      "needs_background": "light"
     },
     "output_type": "display_data"
    },
    {
     "name": "stdout",
     "output_type": "stream",
     "text": [
      "The mean of the test scores in teacher one's class is 84.46766666666666\n",
      "The mean of the test scores in teacher two's class is 84.29799999999999\n",
      "The variance of the test scores in teacher one's class is 4.266517888888889\n",
      "The variance of the test scores in teacher two's class is 78.13198933333337\n"
     ]
    }
   ],
   "source": [
    "teacher_one_grades = [80.24, 81.15, 81.29, 82.12, 82.52, 82.54, 82.76, 83.37, 83.42, 83.45, 83.47, 83.79, 83.91, 83.98, 84.03, 84.69, 84.74, 84.89, 84.95, 84.95, 85.02, 85.18, 85.53, 86.29, 86.83, 87.29, 87.47, 87.62, 88.04, 88.5]\n",
    "teacher_two_grades = [65.82, 70.77, 71.46, 73.63, 74.62, 76.53, 76.86, 77.06, 78.46, 79.81, 80.64, 81.61, 81.84, 83.67, 84.44, 84.73, 84.74, 85.15, 86.55, 88.06, 88.53, 90.12, 91.27, 91.62, 92.86, 94.37, 95.64, 95.99, 97.69, 104.4]\n",
    "\n",
    "#Set these two variables equal to the variance of each dataset using NumPy\n",
    "teacher_one_variance = np.var(teacher_one_grades) \n",
    "teacher_two_variance = np.var(teacher_two_grades) \n",
    "\n",
    "plt.hist(teacher_one_grades, alpha = 0.75, label = \"Teacher 1 Scores\", bins = 7)\n",
    "plt.hist(teacher_two_grades, alpha = 0.5, label = \"Teacher 2 Scores\", bins = 30)\n",
    "plt.title(\"Student test grades in two different classes\")\n",
    "plt.xlabel(\"Grades\")\n",
    "plt.legend()\n",
    "plt.show()\n",
    "\n",
    "print(\"The mean of the test scores in teacher one's class is \" + str(np.mean(teacher_one_grades)))\n",
    "print(\"The mean of the test scores in teacher two's class is \" + str(np.mean(teacher_two_grades)))\n",
    "\n",
    "print(\"The variance of the test scores in teacher one's class is \" +str(teacher_one_variance))\n",
    "print(\"The variance of the test scores in teacher two's class is \" +str(teacher_two_variance))"
   ]
  },
  {
   "cell_type": "code",
   "execution_count": 9,
   "metadata": {},
   "outputs": [
    {
     "name": "stdout",
     "output_type": "stream",
     "text": [
      "The mean of the first dataset is 84.46766666666666\n",
      "The mean of the second dataset is 84.29799999999999\n",
      "\n",
      "The variance of the first dataset is 4.266517888888889\n",
      "The variance of the second dataset is 78.13198933333337\n"
     ]
    },
    {
     "data": {
      "image/png": "[encoded data removed]",
      "text/plain": [
       "<Figure size 432x288 with 1 Axes>"
      ]
     },
     "metadata": {
      "needs_background": "light"
     },
     "output_type": "display_data"
    }
   ],
   "source": [
    "plt.hist(teacher_one_grades, alpha =0.75, label = \"dataset_one\", bins = 80)\n",
    "plt.hist(teacher_two_grades, alpha = 0.5, label = \"dataset_two\", bins = 80)\n",
    "plt.legend()\n",
    "\n",
    "print(\"The mean of the first dataset is \" + str(np.mean(teacher_one_grades)))\n",
    "print(\"The mean of the second dataset is \" + str(np.mean(teacher_two_grades)) + \"\\n\")\n",
    "\n",
    "print(\"The variance of the first dataset is \" + str(np.var(teacher_one_grades)))\n",
    "print(\"The variance of the second dataset is \" + str(np.var(teacher_two_grades)))\n",
    "\n",
    "plt.show() "
   ]
  }
 ],
 "metadata": {
  "interpreter": {
   "hash": "270e48d7d833aa9f6e241cd7baab00f55729dc9b87acb79557571c94ce8b6154"
  },
  "kernelspec": {
   "display_name": "Python 3.8.5 64-bit ('base': conda)",
   "name": "python3"
  },
  "language_info": {
   "codemirror_mode": {
    "name": "ipython",
    "version": 3
   },
   "file_extension": ".py",
   "mimetype": "text/x-python",
   "name": "python",
   "nbconvert_exporter": "python",
   "pygments_lexer": "ipython3",
   "version": "3.8.5"
  },
  "orig_nbformat": 4
 },
 "nbformat": 4,
 "nbformat_minor": 2
}
