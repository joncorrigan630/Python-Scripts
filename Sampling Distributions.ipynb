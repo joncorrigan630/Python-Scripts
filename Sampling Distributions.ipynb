{
 "cells": [
  {
   "cell_type": "code",
   "execution_count": 1,
   "metadata": {},
   "outputs": [],
   "source": [
    "import numpy as np\n",
    "import pandas as pd\n",
    "import matplotlib.pyplot as plt\n",
    "import seaborn as sns"
   ]
  },
  {
   "cell_type": "code",
   "execution_count": 2,
   "metadata": {},
   "outputs": [
    {
     "data": {
      "text/plain": [
       "2       123.0\n",
       "3       122.0\n",
       "4       133.0\n",
       "5       121.0\n",
       "6       165.0\n",
       "        ...  \n",
       "5383     86.0\n",
       "5384    100.0\n",
       "5385    103.0\n",
       "5386     95.0\n",
       "5393    190.0\n",
       "Name: Field_Length_Millimeters, Length: 4092, dtype: float64"
      ]
     },
     "execution_count": 2,
     "metadata": {},
     "output_type": "execute_result"
    }
   ],
   "source": [
    "fish_len_mm = pd.read_csv(\"Fish Length Output.csv\", index_col=0) \n",
    "fish_len_mm = fish_len_mm[\"Field_Length_Millimeters\"] \n",
    "fish_len_mm"
   ]
  },
  {
   "cell_type": "code",
   "execution_count": 3,
   "metadata": {},
   "outputs": [
    {
     "data": {
      "image/png": "[encoded data removed]",
      "text/plain": [
       "<Figure size 432x288 with 1 Axes>"
      ]
     },
     "metadata": {
      "needs_background": "light"
     },
     "output_type": "display_data"
    }
   ],
   "source": [
    "sample_size = 50\n",
    "sample_means = []\n",
    "\n",
    "# loop 500 times to get 500 random sample means\n",
    "for i in range(500):\n",
    "  # take a sample from the data:\n",
    "  samp = np.random.choice(fish_len_mm, sample_size, replace = False) \n",
    "  # calculate the mean of this sample:\n",
    "  this_sample_mean = np.mean(samp)\n",
    "  # append this sample mean to a list of sample means\n",
    "  sample_means.append(this_sample_mean) \n",
    "\n",
    "# plot all the sample means to show the sampling distribution\n",
    "sns.histplot(sample_means, stat='density')\n",
    "plt.title(\"Sampling Distribution of the Mean\")\n",
    "plt.xlabel(\"Length (mm)\")\n",
    "plt.show() "
   ]
  }
 ],
 "metadata": {
  "interpreter": {
   "hash": "270e48d7d833aa9f6e241cd7baab00f55729dc9b87acb79557571c94ce8b6154"
  },
  "kernelspec": {
   "display_name": "Python 3.8.5 64-bit ('base': conda)",
   "name": "python3"
  },
  "language_info": {
   "codemirror_mode": {
    "name": "ipython",
    "version": 3
   },
   "file_extension": ".py",
   "mimetype": "text/x-python",
   "name": "python",
   "nbconvert_exporter": "python",
   "pygments_lexer": "ipython3",
   "version": "3.8.5"
  },
  "orig_nbformat": 4
 },
 "nbformat": 4,
 "nbformat_minor": 2
}
