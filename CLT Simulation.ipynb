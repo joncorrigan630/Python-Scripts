{
 "cells": [
  {
   "cell_type": "code",
   "execution_count": 5,
   "metadata": {},
   "outputs": [],
   "source": [
    "import numpy as np\n",
    "import random\n",
    "import matplotlib.pyplot as plt"
   ]
  },
  {
   "cell_type": "markdown",
   "metadata": {},
   "source": [
    "### Try changing samp_size to any number between 2 and 20. Then, leaving samp_size = 2, try changing the value of pop_stdev to any number between 1 and 10 (higher values mean more variation in the population). Observe how higher values of samp_size and lower values of pop_stdev result in a skinnier distribution (smaller standard error)."
   ]
  },
  {
   "cell_type": "code",
   "execution_count": 6,
   "metadata": {},
   "outputs": [
    {
     "data": {
      "image/png": "[encoded data removed]",
      "text/plain": [
       "<Figure size 432x288 with 1 Axes>"
      ]
     },
     "metadata": {
      "needs_background": "light"
     },
     "output_type": "display_data"
    }
   ],
   "source": [
    "samp_size = 2\n",
    "pop_stdev = 10\n",
    "\n",
    "population = np.random.normal(loc = 10, scale = pop_stdev, size = 100000)\n",
    "population = list(population)\n",
    "\n",
    "sample_means = []\n",
    "\n",
    "for i in range(10000):\n",
    "    samp = random.sample(population, samp_size)\n",
    "    sample_means.append(np.mean(samp))\n",
    "\n",
    "plt.hist(sample_means, bins = 30)\n",
    "plt.title('Sampling Distribution')\n",
    "plt.xlim(-10, 30)\n",
    "\n",
    "plt.show()"
   ]
  }
 ],
 "metadata": {
  "interpreter": {
   "hash": "270e48d7d833aa9f6e241cd7baab00f55729dc9b87acb79557571c94ce8b6154"
  },
  "kernelspec": {
   "display_name": "Python 3.8.5 64-bit ('base': conda)",
   "name": "python3"
  },
  "language_info": {
   "codemirror_mode": {
    "name": "ipython",
    "version": 3
   },
   "file_extension": ".py",
   "mimetype": "text/x-python",
   "name": "python",
   "nbconvert_exporter": "python",
   "pygments_lexer": "ipython3",
   "version": "3.8.5"
  },
  "orig_nbformat": 4
 },
 "nbformat": 4,
 "nbformat_minor": 2
}
