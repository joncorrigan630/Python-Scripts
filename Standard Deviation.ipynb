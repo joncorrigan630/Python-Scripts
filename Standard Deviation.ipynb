{
 "cells": [
  {
   "cell_type": "code",
   "execution_count": 1,
   "metadata": {},
   "outputs": [],
   "source": [
    "import matplotlib.pyplot as plt\n",
    "import numpy as np"
   ]
  },
  {
   "cell_type": "code",
   "execution_count": 3,
   "metadata": {},
   "outputs": [],
   "source": [
    "t1_grades = [83.42, 88.04, 82.12, 85.02, 82.52, 87.47, 84.69, 85.18, 86.29, 85.53, 81.29, 82.54, 83.47, 83.91, 86.83, 88.5, 84.95, 83.79, 84.74, 84.03, 87.62, 81.15, 83.45, 80.24, 82.76, 83.98, 84.95, 83.37, 84.89, 87.29]\n",
    "t2_grades = [85.15, 95.64, 84.73, 71.46, 95.99, 81.61, 86.55, 79.81, 77.06, 92.86, 83.67, 73.63, 90.12, 80.64, 78.46, 76.86, 104.4, 88.53, 74.62, 91.27, 76.53, 94.37, 84.74, 81.84, 97.69, 70.77, 84.44, 88.06, 91.62, 65.82]"
   ]
  },
  {
   "cell_type": "code",
   "execution_count": 4,
   "metadata": {},
   "outputs": [],
   "source": [
    "t1_mean = np.mean(t1_grades)\n",
    "t2_mean = np.mean(t2_grades) "
   ]
  },
  {
   "cell_type": "code",
   "execution_count": 5,
   "metadata": {},
   "outputs": [],
   "source": [
    "#Change this variable to your grade \n",
    "your_grade = 75 "
   ]
  },
  {
   "cell_type": "code",
   "execution_count": 6,
   "metadata": {},
   "outputs": [],
   "source": [
    "t1_sd = np.std(t1_grades)\n",
    "t2_sd = np.std(t2_grades)"
   ]
  },
  {
   "cell_type": "code",
   "execution_count": 7,
   "metadata": {},
   "outputs": [
    {
     "data": {
      "image/png": "[encoded data removed]",
      "text/plain": [
       "<Figure size 432x288 with 2 Axes>"
      ]
     },
     "metadata": {
      "needs_background": "light"
     },
     "output_type": "display_data"
    }
   ],
   "source": [
    "plt.subplot(211)\n",
    "plt.title(\"Grades 1\")\n",
    "plt.xlabel(\"Grade by Percentage\") \n",
    "\n",
    "plt.hist(t1_grades)\n",
    "\n",
    "plt.axvline(t1_mean, color='#FD4E40', linestyle='solid', linewidth=2, label = \"Mean\")\n",
    "\n",
    "plt.axvline(t1_mean + t1_sd, color='#FFB908', linestyle='solid', linewidth=2, label = \"Standard Deviations\")\n",
    "plt.axvline(t1_mean - t1_sd, color='#FFB908', linestyle='solid', linewidth=2)\n",
    "\n",
    "plt.axvline(t1_mean + t1_sd * 2, color='#FFB908', linestyle='solid', linewidth=2)\n",
    "plt.axvline(t1_mean - t1_sd * 2, color='#FFB908', linestyle='solid', linewidth=2)\n",
    "\n",
    "plt.axvline(t1_mean + t1_sd * 3, color='#FFB908', linestyle='solid', linewidth=2)\n",
    "plt.axvline(t1_mean - t2_sd * 3, color='#FFB908', linestyle='solid', linewidth=2)\n",
    "\n",
    "plt.axvline(your_grade, color='#62EDBF', linestyle='solid', linewidth=2, label = \"You\")\n",
    "\n",
    "plt.xlim(70, 100)\n",
    "plt.legend()\n",
    "\n",
    "\n",
    "plt.subplot(212)\n",
    "plt.title(\"Grades 2\")\n",
    "plt.xlabel(\"Grade by Percentage\")\n",
    "\n",
    "plt.hist(t2_grades)\n",
    "\n",
    "plt.axvline(t2_mean, color='#FD4E40', linestyle='solid', linewidth=2, label = \"Mean\")\n",
    "\n",
    "plt.axvline(t2_mean + t2_sd, color='#FFB908', linestyle='solid', linewidth=2, label = \"Standard Deviations\")\n",
    "plt.axvline(t2_mean - t2_sd, color='#FFB908', linestyle='solid', linewidth=2)\n",
    "\n",
    "plt.axvline(t2_mean + t2_sd * 2, color='#FFB908', linestyle='solid', linewidth=2)\n",
    "plt.axvline(t2_mean - t2_sd * 2, color='#FFB908', linestyle='solid', linewidth=2)\n",
    "\n",
    "plt.axvline(t2_mean + t2_sd * 3, color='#FFB908', linestyle='solid', linewidth=2)\n",
    "plt.axvline(t2_mean - t2_sd * 3, color='#FFB908', linestyle='solid', linewidth=2)\n",
    "\n",
    "plt.axvline(your_grade, color='#62EDBF', linestyle='solid', linewidth=2, label = \"You\")\n",
    "\n",
    "plt.xlim(70, 100)\n",
    "plt.legend()\n",
    "\n",
    "\n",
    "\n",
    "\n",
    "plt.tight_layout()\n",
    "plt.show()"
   ]
  }
 ],
 "metadata": {
  "interpreter": {
   "hash": "270e48d7d833aa9f6e241cd7baab00f55729dc9b87acb79557571c94ce8b6154"
  },
  "kernelspec": {
   "display_name": "Python 3.8.5 64-bit ('base': conda)",
   "name": "python3"
  },
  "language_info": {
   "codemirror_mode": {
    "name": "ipython",
    "version": 3
   },
   "file_extension": ".py",
   "mimetype": "text/x-python",
   "name": "python",
   "nbconvert_exporter": "python",
   "pygments_lexer": "ipython3",
   "version": "3.8.5"
  },
  "orig_nbformat": 4
 },
 "nbformat": 4,
 "nbformat_minor": 2
}
