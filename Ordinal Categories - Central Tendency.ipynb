{
 "cells": [
  {
   "cell_type": "code",
   "execution_count": 21,
   "metadata": {},
   "outputs": [
    {
     "name": "stderr",
     "output_type": "stream",
     "text": [
      "C:\\Users\\jonco\\Anaconda3\\lib\\site-packages\\IPython\\core\\interactiveshell.py:3146: DtypeWarning: Columns (2) have mixed types.Specify dtype option on import or set low_memory=False.\n",
      "  has_raised = await self.run_ast_nodes(code_ast.body, cell_name,\n"
     ]
    },
    {
     "data": {
      "text/html": [
       "<div>\n",
       "<style scoped>\n",
       "    .dataframe tbody tr th:only-of-type {\n",
       "        vertical-align: middle;\n",
       "    }\n",
       "\n",
       "    .dataframe tbody tr th {\n",
       "        vertical-align: top;\n",
       "    }\n",
       "\n",
       "    .dataframe thead th {\n",
       "        text-align: right;\n",
       "    }\n",
       "</style>\n",
       "<table border=\"1\" class=\"dataframe\">\n",
       "  <thead>\n",
       "    <tr style=\"text-align: right;\">\n",
       "      <th></th>\n",
       "      <th>State</th>\n",
       "      <th>City</th>\n",
       "      <th>Month</th>\n",
       "      <th>Day</th>\n",
       "      <th>Year</th>\n",
       "      <th>AvgTemperature</th>\n",
       "    </tr>\n",
       "  </thead>\n",
       "  <tbody>\n",
       "    <tr>\n",
       "      <th>1450990</th>\n",
       "      <td>Alabama</td>\n",
       "      <td>Birmingham</td>\n",
       "      <td>1</td>\n",
       "      <td>1</td>\n",
       "      <td>1995</td>\n",
       "      <td>50.7</td>\n",
       "    </tr>\n",
       "    <tr>\n",
       "      <th>1450991</th>\n",
       "      <td>Alabama</td>\n",
       "      <td>Birmingham</td>\n",
       "      <td>1</td>\n",
       "      <td>2</td>\n",
       "      <td>1995</td>\n",
       "      <td>37.2</td>\n",
       "    </tr>\n",
       "    <tr>\n",
       "      <th>1450992</th>\n",
       "      <td>Alabama</td>\n",
       "      <td>Birmingham</td>\n",
       "      <td>1</td>\n",
       "      <td>3</td>\n",
       "      <td>1995</td>\n",
       "      <td>33.2</td>\n",
       "    </tr>\n",
       "    <tr>\n",
       "      <th>1450993</th>\n",
       "      <td>Alabama</td>\n",
       "      <td>Birmingham</td>\n",
       "      <td>1</td>\n",
       "      <td>4</td>\n",
       "      <td>1995</td>\n",
       "      <td>33.3</td>\n",
       "    </tr>\n",
       "    <tr>\n",
       "      <th>1450994</th>\n",
       "      <td>Alabama</td>\n",
       "      <td>Birmingham</td>\n",
       "      <td>1</td>\n",
       "      <td>5</td>\n",
       "      <td>1995</td>\n",
       "      <td>26.4</td>\n",
       "    </tr>\n",
       "    <tr>\n",
       "      <th>...</th>\n",
       "      <td>...</td>\n",
       "      <td>...</td>\n",
       "      <td>...</td>\n",
       "      <td>...</td>\n",
       "      <td>...</td>\n",
       "      <td>...</td>\n",
       "    </tr>\n",
       "    <tr>\n",
       "      <th>2899535</th>\n",
       "      <td>Wyoming</td>\n",
       "      <td>Cheyenne</td>\n",
       "      <td>5</td>\n",
       "      <td>9</td>\n",
       "      <td>2020</td>\n",
       "      <td>42.3</td>\n",
       "    </tr>\n",
       "    <tr>\n",
       "      <th>2899536</th>\n",
       "      <td>Wyoming</td>\n",
       "      <td>Cheyenne</td>\n",
       "      <td>5</td>\n",
       "      <td>10</td>\n",
       "      <td>2020</td>\n",
       "      <td>43.1</td>\n",
       "    </tr>\n",
       "    <tr>\n",
       "      <th>2899537</th>\n",
       "      <td>Wyoming</td>\n",
       "      <td>Cheyenne</td>\n",
       "      <td>5</td>\n",
       "      <td>11</td>\n",
       "      <td>2020</td>\n",
       "      <td>37.8</td>\n",
       "    </tr>\n",
       "    <tr>\n",
       "      <th>2899538</th>\n",
       "      <td>Wyoming</td>\n",
       "      <td>Cheyenne</td>\n",
       "      <td>5</td>\n",
       "      <td>12</td>\n",
       "      <td>2020</td>\n",
       "      <td>41.9</td>\n",
       "    </tr>\n",
       "    <tr>\n",
       "      <th>2899539</th>\n",
       "      <td>Wyoming</td>\n",
       "      <td>Cheyenne</td>\n",
       "      <td>5</td>\n",
       "      <td>13</td>\n",
       "      <td>2020</td>\n",
       "      <td>48.5</td>\n",
       "    </tr>\n",
       "  </tbody>\n",
       "</table>\n",
       "<p>1448550 rows × 6 columns</p>\n",
       "</div>"
      ],
      "text/plain": [
       "           State        City  Month  Day  Year  AvgTemperature\n",
       "1450990  Alabama  Birmingham      1    1  1995            50.7\n",
       "1450991  Alabama  Birmingham      1    2  1995            37.2\n",
       "1450992  Alabama  Birmingham      1    3  1995            33.2\n",
       "1450993  Alabama  Birmingham      1    4  1995            33.3\n",
       "1450994  Alabama  Birmingham      1    5  1995            26.4\n",
       "...          ...         ...    ...  ...   ...             ...\n",
       "2899535  Wyoming    Cheyenne      5    9  2020            42.3\n",
       "2899536  Wyoming    Cheyenne      5   10  2020            43.1\n",
       "2899537  Wyoming    Cheyenne      5   11  2020            37.8\n",
       "2899538  Wyoming    Cheyenne      5   12  2020            41.9\n",
       "2899539  Wyoming    Cheyenne      5   13  2020            48.5\n",
       "\n",
       "[1448550 rows x 6 columns]"
      ]
     },
     "execution_count": 21,
     "metadata": {},
     "output_type": "execute_result"
    }
   ],
   "source": [
    "import pandas as pd \n",
    "import numpy as np\n",
    "data = pd.read_csv(\"city_temperature.csv\")\n",
    "data.dropna(inplace=True) \n",
    "df = data.loc[0:, [\"State\", \"City\", \"Month\", \"Day\", \"Year\", \"AvgTemperature\"]] \n",
    "my_df = df.loc[df.State != \"Additional Territories\"] \n",
    "my_df "
   ]
  },
  {
   "cell_type": "code",
   "execution_count": 22,
   "metadata": {},
   "outputs": [
    {
     "name": "stdout",
     "output_type": "stream",
     "text": [
      "[1, 2, 3, 4, 5, 6, 7, 8, 9, 10, 11, 12]\n",
      "[1, 2, 3, 4, 5, 6, 7, 8, 9, 10, 11, 12, 13, 14, 15, 16, 17, 18, 19, 20, 21, 22, 23, 24, 25, 26, 27, 28, 29, 30, 31]\n",
      "[1995, 1996, 1997, 1998, 1999, 2000, 2001, 2002, 2003, 2004, 2005, 2006, 2007, 2008, 2009, 2010, 2011, 2012, 2013, 2014, 2015, 2016, 2017, 2018, 2019, 2020]\n",
      "['Alabama', 'Alaska', 'Arizona', 'Arkansas', 'California', 'Colorado', 'Connecticut', 'Delaware', 'District of Columbia', 'Maryland', 'Florida', 'Georgia', 'Hawaii', 'Idaho', 'Illinois', 'Indiana', 'Iowa', 'Kansas', 'Kentucky', 'Louisiana', 'Maine', 'Massachusetts', 'Michigan', 'Minnesota', 'Mississippi', 'Missouri', 'Montana', 'Nebraska', 'Nevada', 'New Hampshire', 'New Jersey', 'New Mexico', 'New York', 'North Carolina', 'North Dakota', 'Ohio', 'Oklahoma', 'Oregon', 'Pennsylvania', 'Rhode Island', 'South Carolina', 'South Dakota', 'Tennessee', 'Texas', 'Utah', 'Vermont', 'Virginia', 'Washington', 'West Virginia', 'Wisconsin', 'Wyoming']\n",
      "['Birmingham', 'Huntsville', 'Mobile', 'Montgomery', 'Anchorage', 'Fairbanks', 'Juneau', 'Flagstaff', 'Phoenix', 'Tucson', 'Yuma', 'Fort Smith', 'Little Rock', 'Fresno', 'Los Angeles', 'Sacramento', 'San Diego', 'San Francisco', 'Colorado Springs', 'Denver', 'Grand Junction', 'Pueblo', 'Bridgeport', 'Hartford Springfield', 'Wilmington', 'Washington', 'Washington DC', 'Daytona Beach', 'Jacksonville', 'Miami Beach', 'Orlando', 'Tallahassee', 'Tampa St. Petersburg', 'West Palm Beach', 'Atlanta', 'Columbus', 'Macon', 'Savannah', 'Honolulu', 'Boise', 'Pocatello', 'Chicago', 'Peoria', 'Rockford', 'Springfield', 'Evansville', 'Fort Wayne', 'Indianapolis', 'South Bend', 'Des Moines', 'Sioux City', 'Goodland', 'Topeka', 'Wichita', 'Lexington', 'Louisville', 'Paducah', 'Baton Rouge', 'Lake Charles', 'New Orleans', 'Shreveport', 'Caribou', 'Portland', 'Baltimore', 'Boston', 'Detroit', 'Flint', 'Grand Rapids', 'Lansing', 'Sault Ste Marie', 'Duluth', 'Minneapolis St. Paul', 'Jackson', 'Tupelo', 'Kansas City', 'St Louis', 'Billings', 'Great Falls', 'Helena', 'Lincoln', 'North Platte', 'Omaha', 'Reno', 'Las Vegas', 'Concord', 'Atlantic City', 'Newark', 'Albuquerque', 'Albany', 'Buffalo', 'New York City', 'Rochester', 'Syracuse', 'Asheville', 'Charlotte', 'Greensboro', 'Raleigh Durham', 'Bismarck', 'Fargo', 'Akron Canton', 'Cincinnati', 'Cleveland', 'Dayton', 'Toledo', 'Youngstown', 'Oklahoma City', 'Tulsa', 'Eugene', 'Medford', 'Salem', 'Allentown', 'Erie', 'Harrisburg', 'Philadelphia', 'Pittsburgh', 'Wilkes Barre', 'Rhode Island', 'Charleston', 'Columbia', 'Rapid City', 'Sioux Falls', 'Chattanooga', 'Knoxville', 'Memphis', 'Nashville', 'Abilene', 'Amarillo', 'Austin', 'Brownsville', 'Corpus Christi', 'Dallas Ft Worth', 'El Paso', 'Houston', 'Lubbock', 'Midland Odessa', 'San Angelo', 'San Antonio', 'Waco', 'Wichita Falls', 'Salt Lake City', 'Burlington', 'Norfolk', 'Richmond', 'Roanoke', 'Seattle', 'Spokane', 'Yakima', 'Elkins', 'Green Bay', 'Madison', 'Milwaukee', 'Casper', 'Cheyenne']\n"
     ]
    }
   ],
   "source": [
    "print(list(my_df['Month'].unique())) \n",
    "print(list(my_df['Day'].unique())) \n",
    "print(list(my_df['Year'].unique())) \n",
    "print(list(my_df['State'].unique()))\n",
    "print(list(my_df['City'].unique()))   "
   ]
  },
  {
   "cell_type": "code",
   "execution_count": 23,
   "metadata": {},
   "outputs": [
    {
     "name": "stdout",
     "output_type": "stream",
     "text": [
      "5.0\n",
      "6\n"
     ]
    },
    {
     "name": "stderr",
     "output_type": "stream",
     "text": [
      "<ipython-input-23-73ff103de1e9>:2: SettingWithCopyWarning: \n",
      "A value is trying to be set on a copy of a slice from a DataFrame.\n",
      "Try using .loc[row_indexer,col_indexer] = value instead\n",
      "\n",
      "See the caveats in the documentation: https://pandas.pydata.org/pandas-docs/stable/user_guide/indexing.html#returning-a-view-versus-a-copy\n",
      "  my_df['Month'] = pd.Categorical(my_df['Month'], months_ordered, ordered=True)\n"
     ]
    }
   ],
   "source": [
    "months_ordered = [1, 2, 3, 4, 5, 6, 7, 8, 9, 10, 11, 12] \n",
    "my_df['Month'] = pd.Categorical(my_df['Month'], months_ordered, ordered=True)  \n",
    "\n",
    "median_months = np.median(my_df['Month'].cat.codes)\n",
    "print(median_months) \n",
    "\n",
    "median_months_category = months_ordered[int(median_months)]\n",
    "print(median_months_category) "
   ]
  },
  {
   "cell_type": "code",
   "execution_count": 24,
   "metadata": {},
   "outputs": [
    {
     "name": "stdout",
     "output_type": "stream",
     "text": [
      "15.0\n",
      "16\n"
     ]
    },
    {
     "name": "stderr",
     "output_type": "stream",
     "text": [
      "<ipython-input-24-32cab4b9a708>:2: SettingWithCopyWarning: \n",
      "A value is trying to be set on a copy of a slice from a DataFrame.\n",
      "Try using .loc[row_indexer,col_indexer] = value instead\n",
      "\n",
      "See the caveats in the documentation: https://pandas.pydata.org/pandas-docs/stable/user_guide/indexing.html#returning-a-view-versus-a-copy\n",
      "  my_df['Day'] = pd.Categorical(my_df['Day'], days_ordered, ordered=True)\n"
     ]
    }
   ],
   "source": [
    "days_ordered = [1, 2, 3, 4, 5, 6, 7, 8, 9, 10, 11, 12, 13, 14, 15, 16, 17, 18, 19, 20, 21, 22, 23, 24, 25, 26, 27, 28, 29, 30, 31] \n",
    "my_df['Day'] = pd.Categorical(my_df['Day'], days_ordered, ordered=True)   \n",
    "\n",
    "median_day = np.median(my_df['Day'].cat.codes)\n",
    "print(median_day) \n",
    "\n",
    "median_day_category = days_ordered[int(median_day)]\n",
    "print(median_day_category) "
   ]
  },
  {
   "cell_type": "code",
   "execution_count": 25,
   "metadata": {},
   "outputs": [
    {
     "name": "stdout",
     "output_type": "stream",
     "text": [
      "12.0\n",
      "2007\n"
     ]
    },
    {
     "name": "stderr",
     "output_type": "stream",
     "text": [
      "<ipython-input-25-b2d78319cc9e>:2: SettingWithCopyWarning: \n",
      "A value is trying to be set on a copy of a slice from a DataFrame.\n",
      "Try using .loc[row_indexer,col_indexer] = value instead\n",
      "\n",
      "See the caveats in the documentation: https://pandas.pydata.org/pandas-docs/stable/user_guide/indexing.html#returning-a-view-versus-a-copy\n",
      "  my_df['Year'] = pd.Categorical(my_df['Year'], years_ordered, ordered=True)\n"
     ]
    }
   ],
   "source": [
    "years_ordered = [1995, 1996, 1997, 1998, 1999, 2000, 2001, 2002, 2003, 2004, 2005, 2006, 2007, 2008, 2009, 2010, 2011, 2012, 2013, 2014, 2015, 2016, 2017, 2018, 2019, 2020]\n",
    "my_df['Year'] = pd.Categorical(my_df['Year'], years_ordered, ordered=True)\n",
    "\n",
    "median_year = np.median(my_df['Year'].cat.codes)\n",
    "print(median_year) \n",
    "\n",
    "median_year_category = years_ordered[int(median_year)]\n",
    "print(median_year_category)  "
   ]
  },
  {
   "cell_type": "code",
   "execution_count": 26,
   "metadata": {},
   "outputs": [
    {
     "name": "stdout",
     "output_type": "stream",
     "text": [
      "12.0\n",
      "Hawaii\n"
     ]
    },
    {
     "name": "stderr",
     "output_type": "stream",
     "text": [
      "<ipython-input-26-a286ba601dbc>:2: SettingWithCopyWarning: \n",
      "A value is trying to be set on a copy of a slice from a DataFrame.\n",
      "Try using .loc[row_indexer,col_indexer] = value instead\n",
      "\n",
      "See the caveats in the documentation: https://pandas.pydata.org/pandas-docs/stable/user_guide/indexing.html#returning-a-view-versus-a-copy\n",
      "  my_df['State'] = pd.Categorical(my_df['State'], states_ordered, ordered=True)\n"
     ]
    }
   ],
   "source": [
    "states_ordered = ['Alabama', 'Alaska', 'Arizona', 'Arkansas', 'California', 'Colorado', 'Connecticut', 'Delaware', 'District of Columbia', 'Maryland', 'Florida', 'Georgia', 'Hawaii', 'Idaho', 'Illinois', 'Indiana', 'Iowa', 'Kansas', 'Kentucky', 'Louisiana', 'Maine', 'Massachusetts', 'Michigan', 'Minnesota', 'Mississippi', 'Missouri', 'Montana', 'Nebraska', 'Nevada', 'New Hampshire', 'New Jersey', 'New Mexico', 'New York', 'North Carolina', 'North Dakota', 'Ohio', 'Oklahoma', 'Oregon', 'Pennsylvania', 'Rhode Island', 'South Carolina', 'South Dakota', 'Tennessee', 'Texas', 'Utah', 'Vermont', 'Virginia', 'Washington', 'West Virginia', 'Wisconsin', 'Wyoming']\n",
    "my_df['State'] = pd.Categorical(my_df['State'], states_ordered, ordered=True)\n",
    "\n",
    "median_state = np.median(my_df['Year'].cat.codes)\n",
    "print(median_state) \n",
    "\n",
    "median_state_category = states_ordered[int(median_state)]\n",
    "print(median_state_category)   "
   ]
  },
  {
   "cell_type": "code",
   "execution_count": 27,
   "metadata": {},
   "outputs": [
    {
     "name": "stdout",
     "output_type": "stream",
     "text": [
      "75.0\n",
      "St Louis\n"
     ]
    },
    {
     "name": "stderr",
     "output_type": "stream",
     "text": [
      "<ipython-input-27-079a344e08c9>:2: SettingWithCopyWarning: \n",
      "A value is trying to be set on a copy of a slice from a DataFrame.\n",
      "Try using .loc[row_indexer,col_indexer] = value instead\n",
      "\n",
      "See the caveats in the documentation: https://pandas.pydata.org/pandas-docs/stable/user_guide/indexing.html#returning-a-view-versus-a-copy\n",
      "  my_df['City'] = pd.Categorical(my_df['City'], cities_ordered, ordered=True)\n"
     ]
    }
   ],
   "source": [
    "cities_ordered = ['Birmingham', 'Huntsville', 'Mobile', 'Montgomery', 'Anchorage', 'Fairbanks', 'Juneau', 'Flagstaff', 'Phoenix', 'Tucson', 'Yuma', 'Fort Smith', 'Little Rock', 'Fresno', 'Los Angeles', 'Sacramento', 'San Diego', 'San Francisco', 'Colorado Springs', 'Denver', 'Grand Junction', 'Pueblo', 'Bridgeport', 'Hartford Springfield', 'Wilmington', 'Washington', 'Washington DC', 'Daytona Beach', 'Jacksonville', 'Miami Beach', 'Orlando', 'Tallahassee', 'Tampa St. Petersburg', 'West Palm Beach', 'Atlanta', 'Columbus', 'Macon', 'Savannah', 'Honolulu', 'Boise', 'Pocatello', 'Chicago', 'Peoria', 'Rockford', 'Springfield', 'Evansville', 'Fort Wayne', 'Indianapolis', 'South Bend', 'Des Moines', 'Sioux City', 'Goodland', 'Topeka', 'Wichita', 'Lexington', 'Louisville', 'Paducah', 'Baton Rouge', 'Lake Charles', 'New Orleans', 'Shreveport', 'Caribou', 'Portland', 'Baltimore', 'Boston', 'Detroit', 'Flint', 'Grand Rapids', 'Lansing', 'Sault Ste Marie', 'Duluth', 'Minneapolis St. Paul', 'Jackson', 'Tupelo', 'Kansas City', 'St Louis', 'Billings', 'Great Falls', 'Helena', 'Lincoln', 'North Platte', 'Omaha', 'Reno', 'Las Vegas', 'Concord', 'Atlantic City', 'Newark', 'Albuquerque', 'Albany', 'Buffalo', 'New York City', 'Rochester', 'Syracuse', 'Asheville', 'Charlotte', 'Greensboro', 'Raleigh Durham', 'Bismarck', 'Fargo', 'Akron Canton', 'Cincinnati', 'Cleveland', 'Dayton', 'Toledo', 'Youngstown', 'Oklahoma City', 'Tulsa', 'Eugene', 'Medford', 'Salem', 'Allentown', 'Erie', 'Harrisburg', 'Philadelphia', 'Pittsburgh', 'Wilkes Barre', 'Rhode Island', 'Charleston', 'Columbia', 'Rapid City', 'Sioux Falls', 'Chattanooga', 'Knoxville', 'Memphis', 'Nashville', 'Abilene', 'Amarillo', 'Austin', 'Brownsville', 'Corpus Christi', 'Dallas Ft Worth', 'El Paso', 'Houston', 'Lubbock', 'Midland Odessa', 'San Angelo', 'San Antonio', 'Waco', 'Wichita Falls', 'Salt Lake City', 'Burlington', 'Norfolk', 'Richmond', 'Roanoke', 'Seattle', 'Spokane', 'Yakima', 'Elkins', 'Green Bay', 'Madison', 'Milwaukee', 'Casper', 'Cheyenne']\n",
    "my_df['City'] = pd.Categorical(my_df['City'], cities_ordered, ordered=True) \n",
    "\n",
    "median_city = np.median(my_df['City'].cat.codes)\n",
    "print(median_city) \n",
    "\n",
    "median_city_category = cities_ordered[int(median_city)]\n",
    "print(median_city_category)   "
   ]
  },
  {
   "cell_type": "code",
   "execution_count": 28,
   "metadata": {},
   "outputs": [
    {
     "name": "stdout",
     "output_type": "stream",
     "text": [
      "-99.0\n",
      "107.7\n",
      "56.09741175658377\n",
      "58.6\n",
      "20.693779643382275\n",
      "428.2325159288626\n"
     ]
    }
   ],
   "source": [
    "print(my_df[\"AvgTemperature\"].min()) \n",
    "print(my_df[\"AvgTemperature\"].max())\n",
    "print(my_df[\"AvgTemperature\"].mean())\n",
    "print(my_df[\"AvgTemperature\"].median())\n",
    "print(my_df[\"AvgTemperature\"].std())\n",
    "print(my_df[\"AvgTemperature\"].var())     "
   ]
  }
 ],
 "metadata": {
  "interpreter": {
   "hash": "270e48d7d833aa9f6e241cd7baab00f55729dc9b87acb79557571c94ce8b6154"
  },
  "kernelspec": {
   "display_name": "Python 3.8.5 64-bit ('base': conda)",
   "name": "python3"
  },
  "language_info": {
   "codemirror_mode": {
    "name": "ipython",
    "version": 3
   },
   "file_extension": ".py",
   "mimetype": "text/x-python",
   "name": "python",
   "nbconvert_exporter": "python",
   "pygments_lexer": "ipython3",
   "version": "3.8.5"
  },
  "orig_nbformat": 4
 },
 "nbformat": 4,
 "nbformat_minor": 2
}
