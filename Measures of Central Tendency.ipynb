{
 "cells": [
  {
   "cell_type": "code",
   "execution_count": 14,
   "metadata": {},
   "outputs": [
    {
     "name": "stdout",
     "output_type": "stream",
     "text": [
      "The mode and its frequency: 12 and 3\n"
     ]
    }
   ],
   "source": [
    "from scipy import stats\n",
    "import numpy as np \n",
    " \n",
    "# one mode\n",
    "example_array = np.array([24, 16, 12, 10, 12, 28, 38, 12, 28, 24])\n",
    "example_mode = stats.mode(example_array)\n",
    "print(\"The mode and its frequency: \" + str(example_mode[0][0]) + \" and \" + str(example_mode[1][0])) "
   ]
  },
  {
   "cell_type": "code",
   "execution_count": 15,
   "metadata": {},
   "outputs": [
    {
     "name": "stdout",
     "output_type": "stream",
     "text": [
      "The mode and its frequency: 10 and 4\n"
     ]
    }
   ],
   "source": [
    "# bimodal\n",
    "example_array_2 = np.array([24, 16, 10, 10, 10, 24, 38, 10, 28, 24])\n",
    "example_mode_2 = stats.mode(example_array_2)\n",
    "\n",
    "print(\"The mode and its frequency: \" + str(example_mode_2[0][0]) + \" and \" + str(example_mode_2[1][0])) "
   ]
  },
  {
   "cell_type": "code",
   "execution_count": 23,
   "metadata": {},
   "outputs": [
    {
     "data": {
      "image/png": "[encoded data removed]",
      "text/plain": [
       "<Figure size 432x288 with 1 Axes>"
      ]
     },
     "metadata": {
      "needs_background": "light"
     },
     "output_type": "display_data"
    }
   ],
   "source": [
    "import numpy as np\n",
    "import pandas as pd\n",
    "from scipy import stats\n",
    "from matplotlib import pyplot as plt\n",
    "\n",
    "books_data = pd.read_csv(\"Amazon Best Selling Books Data.csv\")\n",
    "\n",
    "book_prices = books_data['Price']\n",
    "\n",
    "average_price = np.average(book_prices)\n",
    "median_price = np.median(book_prices)\n",
    "mode_price = 8 # mode = stats.mode(book_prices)\n",
    "\n",
    "plt.hist(book_prices, range=(0, 100), bins=10,  edgecolor='black')\n",
    "plt.title(\"Book Prices for Top 50 Best Sellers\")\n",
    "plt.xlabel(\"Book Prices\")\n",
    "plt.ylabel(\"Count\")\n",
    "plt.axvline(average_price, color='r', linestyle='solid', linewidth=3, label=\"Mean\")\n",
    "plt.axvline(median_price, color='y', linestyle='dotted', linewidth=3, label=\"Median\")\n",
    "plt.axvline(mode_price, color='orange', linestyle='dashed', linewidth=3, label=\"Mode\")\n",
    "plt.legend()\n",
    "\n",
    "plt.show() "
   ]
  }
 ],
 "metadata": {
  "interpreter": {
   "hash": "270e48d7d833aa9f6e241cd7baab00f55729dc9b87acb79557571c94ce8b6154"
  },
  "kernelspec": {
   "display_name": "Python 3.8.5 64-bit ('base': conda)",
   "name": "python3"
  },
  "language_info": {
   "codemirror_mode": {
    "name": "ipython",
    "version": 3
   },
   "file_extension": ".py",
   "mimetype": "text/x-python",
   "name": "python",
   "nbconvert_exporter": "python",
   "pygments_lexer": "ipython3",
   "version": "3.8.5"
  },
  "orig_nbformat": 4
 },
 "nbformat": 4,
 "nbformat_minor": 2
}
